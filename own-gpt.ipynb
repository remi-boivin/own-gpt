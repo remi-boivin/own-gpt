{
  "cells": [
    {
      "cell_type": "markdown",
      "metadata": {
        "id": "view-in-github",
        "colab_type": "text"
      },
      "source": [
        "<a href=\"https://colab.research.google.com/github/remi-boivin/own-gpt/blob/google_colab/own-gpt.ipynb\" target=\"_parent\"><img src=\"https://colab.research.google.com/assets/colab-badge.svg\" alt=\"Open In Colab\"/></a>"
      ]
    },
    {
      "cell_type": "code",
      "source": [
        "import torch\n",
        "import torch.nn as nn\n",
        "from torch.nn import functional as F\n",
        "device = 'cuda' if torch.cuda.is_available() else 'cpu'\n",
        "print(device)\n",
        "block_size = 8\n",
        "batch_size = 4\n",
        "learning_rate = 3e-4\n",
        "max_iters = 1000\n",
        "eval_iters = 50\n",
        "dropout=0.2\n",
        "n_embd = 384"
      ],
      "metadata": {
        "colab": {
          "base_uri": "https://localhost:8080/"
        },
        "id": "mT_e0hY3ieUs",
        "outputId": "724c38b5-6706-4d3a-d9fd-7b332a0cd49a"
      },
      "id": "mT_e0hY3ieUs",
      "execution_count": 35,
      "outputs": [
        {
          "output_type": "stream",
          "name": "stdout",
          "text": [
            "cuda\n"
          ]
        }
      ]
    },
    {
      "cell_type": "markdown",
      "source": [
        "wocabulary"
      ],
      "metadata": {
        "id": "CrJR3LRoYys9"
      },
      "id": "CrJR3LRoYys9"
    },
    {
      "cell_type": "code",
      "source": [],
      "metadata": {
        "id": "UibUwPOTibw6"
      },
      "id": "UibUwPOTibw6",
      "execution_count": null,
      "outputs": []
    },
    {
      "cell_type": "code",
      "execution_count": 36,
      "id": "ccc2e4f0-39f6-461e-a628-84cf098551e3",
      "metadata": {
        "colab": {
          "base_uri": "https://localhost:8080/"
        },
        "id": "ccc2e4f0-39f6-461e-a628-84cf098551e3",
        "outputId": "b0a23a3e-7036-43eb-ed79-ae94b85ec4f9"
      },
      "outputs": [
        {
          "output_type": "stream",
          "name": "stdout",
          "text": [
            "[' ', '!', '\"', '%', '&', \"'\", '(', ')', '*', ',', '-', '.', '/', '0', '1', '2', '3', '4', '5', '6', '7', '8', '9', ':', ';', '=', '?', 'A', 'B', 'C', 'D', 'E', 'F', 'G', 'H', 'I', 'J', 'K', 'L', 'M', 'N', 'O', 'P', 'Q', 'R', 'S', 'T', 'U', 'V', 'W', 'X', 'Y', 'Z', '[', '\\\\', ']', '_', 'a', 'b', 'c', 'd', 'e', 'f', 'g', 'h', 'i', 'j', 'k', 'l', 'm', 'n', 'o', 'p', 'q', 'r', 's', 't', 'u', 'v', 'w', 'x', 'y', 'z', '{', '}', '·', '\\ufeff']\n"
          ]
        }
      ],
      "source": [
        "with open(\"wizard_of_oz.txt\", encoding=\"utf-8\") as f:\n",
        "  text = f.read()\n",
        "chars = sorted(set(text))\n",
        "print(chars)\n",
        "vocab_size = len(chars)"
      ]
    },
    {
      "cell_type": "markdown",
      "source": [
        "encoder"
      ],
      "metadata": {
        "id": "LCSRkOo6Y7_Y"
      },
      "id": "LCSRkOo6Y7_Y"
    },
    {
      "cell_type": "code",
      "source": [
        "string_to_int = { ch:i for i,ch in enumerate(chars)}\n",
        "int_to_string = { i:ch for i,ch in enumerate(chars)}\n",
        "encode = lambda s: [string_to_int[c] for c in s]\n",
        "decode = lambda l: ''.join(int_to_string[i] for i in l)\n",
        "data = torch.tensor(encode(text), dtype=torch.long)\n",
        "print(data[:100])"
      ],
      "metadata": {
        "id": "3Z-WASthZDYP",
        "colab": {
          "base_uri": "https://localhost:8080/"
        },
        "outputId": "780cc910-d7a7-421a-f296-76c96ba7e395"
      },
      "id": "3Z-WASthZDYP",
      "execution_count": 37,
      "outputs": [
        {
          "output_type": "stream",
          "name": "stdout",
          "text": [
            "tensor([83,  2, 72, 57, 81, 68, 71, 57, 60,  2, 23, 83,  2, 57, 68, 68, 45, 64,\n",
            "        71, 74, 76, 59, 77, 76, 75, 31, 70, 57, 58, 68, 61, 60,  2, 23, 62, 57,\n",
            "        68, 75, 61,  9,  2, 62, 65, 68, 61, 46, 74, 61, 61,  2, 23, 83,  2,  2,\n",
            "        23, 83,  2, 65, 76, 61, 69, 75,  2, 23, 53, 83,  2, 70, 57, 69, 61,  2,\n",
            "        23,  2, 44, 31, 27, 30, 39, 31, 11, 69, 60,  2,  9,  2, 72, 57, 76, 64,\n",
            "         2, 23,  2, 44, 31, 27, 30, 39, 31, 11])\n"
          ]
        }
      ]
    },
    {
      "cell_type": "code",
      "source": [
        "n = int(0.8 * len(data))\n",
        "train_data = data[:n]\n",
        "valid_data = data[n:]\n",
        "\n",
        "def get_batch(split):\n",
        "  data = train_data if split == 'train' else valid_data\n",
        "  ix = torch.randint(len(data) - block_size, (batch_size, ))\n",
        "#  print(ix)\n",
        "  x = torch.stack([data[i:i + block_size] for i in ix])\n",
        "  y = torch.stack([data[i + 1:i + block_size + 1] for i in ix])\n",
        "  x, y = x.to(device), y.to(device)\n",
        "  return x,y\n",
        "\n",
        "x,y = get_batch('train')\n",
        "print(f\"inputs: {x}\\n targets {y}\")"
      ],
      "metadata": {
        "id": "X-CU7ngeZr1c",
        "outputId": "8ab0ded2-ab85-4c70-d429-ec4cf8e75647",
        "colab": {
          "base_uri": "https://localhost:8080/",
          "height": 403
        }
      },
      "id": "X-CU7ngeZr1c",
      "execution_count": 38,
      "outputs": [
        {
          "output_type": "error",
          "ename": "RuntimeError",
          "evalue": "ignored",
          "traceback": [
            "\u001b[0;31m---------------------------------------------------------------------------\u001b[0m",
            "\u001b[0;31mRuntimeError\u001b[0m                              Traceback (most recent call last)",
            "\u001b[0;32m<ipython-input-38-8f1726bb2dbc>\u001b[0m in \u001b[0;36m<cell line: 14>\u001b[0;34m()\u001b[0m\n\u001b[1;32m     12\u001b[0m   \u001b[0;32mreturn\u001b[0m \u001b[0mx\u001b[0m\u001b[0;34m,\u001b[0m\u001b[0my\u001b[0m\u001b[0;34m\u001b[0m\u001b[0;34m\u001b[0m\u001b[0m\n\u001b[1;32m     13\u001b[0m \u001b[0;34m\u001b[0m\u001b[0m\n\u001b[0;32m---> 14\u001b[0;31m \u001b[0mx\u001b[0m\u001b[0;34m,\u001b[0m\u001b[0my\u001b[0m \u001b[0;34m=\u001b[0m \u001b[0mget_batch\u001b[0m\u001b[0;34m(\u001b[0m\u001b[0;34m'train'\u001b[0m\u001b[0;34m)\u001b[0m\u001b[0;34m\u001b[0m\u001b[0;34m\u001b[0m\u001b[0m\n\u001b[0m\u001b[1;32m     15\u001b[0m \u001b[0mprint\u001b[0m\u001b[0;34m(\u001b[0m\u001b[0;34mf\"inputs: {x}\\n targets {y}\"\u001b[0m\u001b[0;34m)\u001b[0m\u001b[0;34m\u001b[0m\u001b[0;34m\u001b[0m\u001b[0m\n",
            "\u001b[0;32m<ipython-input-38-8f1726bb2dbc>\u001b[0m in \u001b[0;36mget_batch\u001b[0;34m(split)\u001b[0m\n\u001b[1;32m      9\u001b[0m   \u001b[0mx\u001b[0m \u001b[0;34m=\u001b[0m \u001b[0mtorch\u001b[0m\u001b[0;34m.\u001b[0m\u001b[0mstack\u001b[0m\u001b[0;34m(\u001b[0m\u001b[0;34m[\u001b[0m\u001b[0mdata\u001b[0m\u001b[0;34m[\u001b[0m\u001b[0mi\u001b[0m\u001b[0;34m:\u001b[0m\u001b[0mi\u001b[0m \u001b[0;34m+\u001b[0m \u001b[0mblock_size\u001b[0m\u001b[0;34m]\u001b[0m \u001b[0;32mfor\u001b[0m \u001b[0mi\u001b[0m \u001b[0;32min\u001b[0m \u001b[0mix\u001b[0m\u001b[0;34m]\u001b[0m\u001b[0;34m)\u001b[0m\u001b[0;34m\u001b[0m\u001b[0;34m\u001b[0m\u001b[0m\n\u001b[1;32m     10\u001b[0m   \u001b[0my\u001b[0m \u001b[0;34m=\u001b[0m \u001b[0mtorch\u001b[0m\u001b[0;34m.\u001b[0m\u001b[0mstack\u001b[0m\u001b[0;34m(\u001b[0m\u001b[0;34m[\u001b[0m\u001b[0mdata\u001b[0m\u001b[0;34m[\u001b[0m\u001b[0mi\u001b[0m \u001b[0;34m+\u001b[0m \u001b[0;36m1\u001b[0m\u001b[0;34m:\u001b[0m\u001b[0mi\u001b[0m \u001b[0;34m+\u001b[0m \u001b[0mblock_size\u001b[0m \u001b[0;34m+\u001b[0m \u001b[0;36m1\u001b[0m\u001b[0;34m]\u001b[0m \u001b[0;32mfor\u001b[0m \u001b[0mi\u001b[0m \u001b[0;32min\u001b[0m \u001b[0mix\u001b[0m\u001b[0;34m]\u001b[0m\u001b[0;34m)\u001b[0m\u001b[0;34m\u001b[0m\u001b[0;34m\u001b[0m\u001b[0m\n\u001b[0;32m---> 11\u001b[0;31m   \u001b[0mx\u001b[0m\u001b[0;34m,\u001b[0m \u001b[0my\u001b[0m \u001b[0;34m=\u001b[0m \u001b[0mx\u001b[0m\u001b[0;34m.\u001b[0m\u001b[0mto\u001b[0m\u001b[0;34m(\u001b[0m\u001b[0mdevice\u001b[0m\u001b[0;34m)\u001b[0m\u001b[0;34m,\u001b[0m \u001b[0my\u001b[0m\u001b[0;34m.\u001b[0m\u001b[0mto\u001b[0m\u001b[0;34m(\u001b[0m\u001b[0mdevice\u001b[0m\u001b[0;34m)\u001b[0m\u001b[0;34m\u001b[0m\u001b[0;34m\u001b[0m\u001b[0m\n\u001b[0m\u001b[1;32m     12\u001b[0m   \u001b[0;32mreturn\u001b[0m \u001b[0mx\u001b[0m\u001b[0;34m,\u001b[0m\u001b[0my\u001b[0m\u001b[0;34m\u001b[0m\u001b[0;34m\u001b[0m\u001b[0m\n\u001b[1;32m     13\u001b[0m \u001b[0;34m\u001b[0m\u001b[0m\n",
            "\u001b[0;31mRuntimeError\u001b[0m: CUDA error: device-side assert triggered\nCUDA kernel errors might be asynchronously reported at some other API call, so the stacktrace below might be incorrect.\nFor debugging consider passing CUDA_LAUNCH_BLOCKING=1.\nCompile with `TORCH_USE_CUDA_DSA` to enable device-side assertions.\n"
          ]
        }
      ]
    },
    {
      "cell_type": "code",
      "source": [
        "@torch.no_grad()\n",
        "def estimate_loss():\n",
        "  out = {}\n",
        "  model.eval()\n",
        "  for split in['train', 'val']:\n",
        "    losses = torch.zeros(eval_iters)\n",
        "    for k in range(eval_iters):\n",
        "      X, Y = get_batch(split)\n",
        "      logits, loss = model(X, Y)\n",
        "      losses[k] = loss.item()\n",
        "      out[split] = losses.mean()\n",
        "  model.train()\n",
        "  return out"
      ],
      "metadata": {
        "id": "G2mOrIftHTuC"
      },
      "id": "G2mOrIftHTuC",
      "execution_count": 23,
      "outputs": []
    },
    {
      "cell_type": "code",
      "source": [
        "class GPTLanguageModel(nn.Module):\n",
        "  def __init__(self, vocab_size):\n",
        "    super().__init__()\n",
        "    self.token_embedding_table = nn.Embedding(vocab_size, n_embd)\n",
        "    self.position_embedding_table = nn.Embedding(block_size, n_embd)\n",
        "\n",
        "  def forward(self, index, targets=None):\n",
        "    logits = self.token_embedding_table(index)\n",
        "    if targets is None:\n",
        "      loss = None\n",
        "    else:\n",
        "      B, T, C = logits.shape\n",
        "      logits = logits.view(B*T, C)\n",
        "      targets = targets.view(B * T)\n",
        "      loss = F.cross_entropy(logits, targets)\n",
        "    return logits, loss\n",
        "\n",
        "  def generate(self, index, max_new_token):\n",
        "    # index is (B, T) array of indices in the current context\n",
        "    for _ in range(max_new_token):\n",
        "      # get the predictions\n",
        "      logits, loss = self.forward(index)\n",
        "      # focus only on the latest time step\n",
        "      logits = logits[:, -1, :] # become (B, C)\n",
        "      #apply softmax to get probabilities\n",
        "      probs = F.softmax(logits, dim=-1) # (B, C)\n",
        "      # sample from the distribution\n",
        "      index_next = torch.multinomial(probs, num_samples=1) # (B, 1)\n",
        "      # append sampled index to the running sequence\n",
        "      index = torch.cat((index, index_next), dim= 1) # (B, T + 1)\n",
        "    return index\n",
        "\n",
        "model = GPTLanguageModel(vocab_size)\n",
        "m = model.to(device)\n",
        "context = torch.zeros((1,1), dtype=torch.long, device=device)\n",
        "generated_chars = decode(m.generate(context, max_new_token=3500)[0].tolist())\n",
        "print(generated_chars)\n"
      ],
      "metadata": {
        "colab": {
          "base_uri": "https://localhost:8080/",
          "height": 444
        },
        "id": "afdwFFRMJgT3",
        "outputId": "ca25a1e6-5d84-439d-fec8-89873234c78d"
      },
      "id": "afdwFFRMJgT3",
      "execution_count": 34,
      "outputs": [
        {
          "output_type": "error",
          "ename": "RuntimeError",
          "evalue": "ignored",
          "traceback": [
            "\u001b[0;31m---------------------------------------------------------------------------\u001b[0m",
            "\u001b[0;31mRuntimeError\u001b[0m                              Traceback (most recent call last)",
            "\u001b[0;32m<ipython-input-34-86b39868c27e>\u001b[0m in \u001b[0;36m<cell line: 34>\u001b[0;34m()\u001b[0m\n\u001b[1;32m     32\u001b[0m \u001b[0;34m\u001b[0m\u001b[0m\n\u001b[1;32m     33\u001b[0m \u001b[0mmodel\u001b[0m \u001b[0;34m=\u001b[0m \u001b[0mGPTLanguageModel\u001b[0m\u001b[0;34m(\u001b[0m\u001b[0mvocab_size\u001b[0m\u001b[0;34m)\u001b[0m\u001b[0;34m\u001b[0m\u001b[0;34m\u001b[0m\u001b[0m\n\u001b[0;32m---> 34\u001b[0;31m \u001b[0mm\u001b[0m \u001b[0;34m=\u001b[0m \u001b[0mmodel\u001b[0m\u001b[0;34m.\u001b[0m\u001b[0mto\u001b[0m\u001b[0;34m(\u001b[0m\u001b[0mdevice\u001b[0m\u001b[0;34m)\u001b[0m\u001b[0;34m\u001b[0m\u001b[0;34m\u001b[0m\u001b[0m\n\u001b[0m\u001b[1;32m     35\u001b[0m \u001b[0mcontext\u001b[0m \u001b[0;34m=\u001b[0m \u001b[0mtorch\u001b[0m\u001b[0;34m.\u001b[0m\u001b[0mzeros\u001b[0m\u001b[0;34m(\u001b[0m\u001b[0;34m(\u001b[0m\u001b[0;36m1\u001b[0m\u001b[0;34m,\u001b[0m\u001b[0;36m1\u001b[0m\u001b[0;34m)\u001b[0m\u001b[0;34m,\u001b[0m \u001b[0mdtype\u001b[0m\u001b[0;34m=\u001b[0m\u001b[0mtorch\u001b[0m\u001b[0;34m.\u001b[0m\u001b[0mlong\u001b[0m\u001b[0;34m,\u001b[0m \u001b[0mdevice\u001b[0m\u001b[0;34m=\u001b[0m\u001b[0mdevice\u001b[0m\u001b[0;34m)\u001b[0m\u001b[0;34m\u001b[0m\u001b[0;34m\u001b[0m\u001b[0m\n\u001b[1;32m     36\u001b[0m \u001b[0mgenerated_chars\u001b[0m \u001b[0;34m=\u001b[0m \u001b[0mdecode\u001b[0m\u001b[0;34m(\u001b[0m\u001b[0mm\u001b[0m\u001b[0;34m.\u001b[0m\u001b[0mgenerate\u001b[0m\u001b[0;34m(\u001b[0m\u001b[0mcontext\u001b[0m\u001b[0;34m,\u001b[0m \u001b[0mmax_new_token\u001b[0m\u001b[0;34m=\u001b[0m\u001b[0;36m3500\u001b[0m\u001b[0;34m)\u001b[0m\u001b[0;34m[\u001b[0m\u001b[0;36m0\u001b[0m\u001b[0;34m]\u001b[0m\u001b[0;34m.\u001b[0m\u001b[0mtolist\u001b[0m\u001b[0;34m(\u001b[0m\u001b[0;34m)\u001b[0m\u001b[0;34m)\u001b[0m\u001b[0;34m\u001b[0m\u001b[0;34m\u001b[0m\u001b[0m\n",
            "\u001b[0;32m/usr/local/lib/python3.10/dist-packages/torch/nn/modules/module.py\u001b[0m in \u001b[0;36mto\u001b[0;34m(self, *args, **kwargs)\u001b[0m\n\u001b[1;32m   1158\u001b[0m             \u001b[0;32mreturn\u001b[0m \u001b[0mt\u001b[0m\u001b[0;34m.\u001b[0m\u001b[0mto\u001b[0m\u001b[0;34m(\u001b[0m\u001b[0mdevice\u001b[0m\u001b[0;34m,\u001b[0m \u001b[0mdtype\u001b[0m \u001b[0;32mif\u001b[0m \u001b[0mt\u001b[0m\u001b[0;34m.\u001b[0m\u001b[0mis_floating_point\u001b[0m\u001b[0;34m(\u001b[0m\u001b[0;34m)\u001b[0m \u001b[0;32mor\u001b[0m \u001b[0mt\u001b[0m\u001b[0;34m.\u001b[0m\u001b[0mis_complex\u001b[0m\u001b[0;34m(\u001b[0m\u001b[0;34m)\u001b[0m \u001b[0;32melse\u001b[0m \u001b[0;32mNone\u001b[0m\u001b[0;34m,\u001b[0m \u001b[0mnon_blocking\u001b[0m\u001b[0;34m)\u001b[0m\u001b[0;34m\u001b[0m\u001b[0;34m\u001b[0m\u001b[0m\n\u001b[1;32m   1159\u001b[0m \u001b[0;34m\u001b[0m\u001b[0m\n\u001b[0;32m-> 1160\u001b[0;31m         \u001b[0;32mreturn\u001b[0m \u001b[0mself\u001b[0m\u001b[0;34m.\u001b[0m\u001b[0m_apply\u001b[0m\u001b[0;34m(\u001b[0m\u001b[0mconvert\u001b[0m\u001b[0;34m)\u001b[0m\u001b[0;34m\u001b[0m\u001b[0;34m\u001b[0m\u001b[0m\n\u001b[0m\u001b[1;32m   1161\u001b[0m \u001b[0;34m\u001b[0m\u001b[0m\n\u001b[1;32m   1162\u001b[0m     def register_full_backward_pre_hook(\n",
            "\u001b[0;32m/usr/local/lib/python3.10/dist-packages/torch/nn/modules/module.py\u001b[0m in \u001b[0;36m_apply\u001b[0;34m(self, fn, recurse)\u001b[0m\n\u001b[1;32m    808\u001b[0m         \u001b[0;32mif\u001b[0m \u001b[0mrecurse\u001b[0m\u001b[0;34m:\u001b[0m\u001b[0;34m\u001b[0m\u001b[0;34m\u001b[0m\u001b[0m\n\u001b[1;32m    809\u001b[0m             \u001b[0;32mfor\u001b[0m \u001b[0mmodule\u001b[0m \u001b[0;32min\u001b[0m \u001b[0mself\u001b[0m\u001b[0;34m.\u001b[0m\u001b[0mchildren\u001b[0m\u001b[0;34m(\u001b[0m\u001b[0;34m)\u001b[0m\u001b[0;34m:\u001b[0m\u001b[0;34m\u001b[0m\u001b[0;34m\u001b[0m\u001b[0m\n\u001b[0;32m--> 810\u001b[0;31m                 \u001b[0mmodule\u001b[0m\u001b[0;34m.\u001b[0m\u001b[0m_apply\u001b[0m\u001b[0;34m(\u001b[0m\u001b[0mfn\u001b[0m\u001b[0;34m)\u001b[0m\u001b[0;34m\u001b[0m\u001b[0;34m\u001b[0m\u001b[0m\n\u001b[0m\u001b[1;32m    811\u001b[0m \u001b[0;34m\u001b[0m\u001b[0m\n\u001b[1;32m    812\u001b[0m         \u001b[0;32mdef\u001b[0m \u001b[0mcompute_should_use_set_data\u001b[0m\u001b[0;34m(\u001b[0m\u001b[0mtensor\u001b[0m\u001b[0;34m,\u001b[0m \u001b[0mtensor_applied\u001b[0m\u001b[0;34m)\u001b[0m\u001b[0;34m:\u001b[0m\u001b[0;34m\u001b[0m\u001b[0;34m\u001b[0m\u001b[0m\n",
            "\u001b[0;32m/usr/local/lib/python3.10/dist-packages/torch/nn/modules/module.py\u001b[0m in \u001b[0;36m_apply\u001b[0;34m(self, fn, recurse)\u001b[0m\n\u001b[1;32m    831\u001b[0m             \u001b[0;31m# `with torch.no_grad():`\u001b[0m\u001b[0;34m\u001b[0m\u001b[0;34m\u001b[0m\u001b[0m\n\u001b[1;32m    832\u001b[0m             \u001b[0;32mwith\u001b[0m \u001b[0mtorch\u001b[0m\u001b[0;34m.\u001b[0m\u001b[0mno_grad\u001b[0m\u001b[0;34m(\u001b[0m\u001b[0;34m)\u001b[0m\u001b[0;34m:\u001b[0m\u001b[0;34m\u001b[0m\u001b[0;34m\u001b[0m\u001b[0m\n\u001b[0;32m--> 833\u001b[0;31m                 \u001b[0mparam_applied\u001b[0m \u001b[0;34m=\u001b[0m \u001b[0mfn\u001b[0m\u001b[0;34m(\u001b[0m\u001b[0mparam\u001b[0m\u001b[0;34m)\u001b[0m\u001b[0;34m\u001b[0m\u001b[0;34m\u001b[0m\u001b[0m\n\u001b[0m\u001b[1;32m    834\u001b[0m             \u001b[0mshould_use_set_data\u001b[0m \u001b[0;34m=\u001b[0m \u001b[0mcompute_should_use_set_data\u001b[0m\u001b[0;34m(\u001b[0m\u001b[0mparam\u001b[0m\u001b[0;34m,\u001b[0m \u001b[0mparam_applied\u001b[0m\u001b[0;34m)\u001b[0m\u001b[0;34m\u001b[0m\u001b[0;34m\u001b[0m\u001b[0m\n\u001b[1;32m    835\u001b[0m             \u001b[0;32mif\u001b[0m \u001b[0mshould_use_set_data\u001b[0m\u001b[0;34m:\u001b[0m\u001b[0;34m\u001b[0m\u001b[0;34m\u001b[0m\u001b[0m\n",
            "\u001b[0;32m/usr/local/lib/python3.10/dist-packages/torch/nn/modules/module.py\u001b[0m in \u001b[0;36mconvert\u001b[0;34m(t)\u001b[0m\n\u001b[1;32m   1156\u001b[0m                 return t.to(device, dtype if t.is_floating_point() or t.is_complex() else None,\n\u001b[1;32m   1157\u001b[0m                             non_blocking, memory_format=convert_to_format)\n\u001b[0;32m-> 1158\u001b[0;31m             \u001b[0;32mreturn\u001b[0m \u001b[0mt\u001b[0m\u001b[0;34m.\u001b[0m\u001b[0mto\u001b[0m\u001b[0;34m(\u001b[0m\u001b[0mdevice\u001b[0m\u001b[0;34m,\u001b[0m \u001b[0mdtype\u001b[0m \u001b[0;32mif\u001b[0m \u001b[0mt\u001b[0m\u001b[0;34m.\u001b[0m\u001b[0mis_floating_point\u001b[0m\u001b[0;34m(\u001b[0m\u001b[0;34m)\u001b[0m \u001b[0;32mor\u001b[0m \u001b[0mt\u001b[0m\u001b[0;34m.\u001b[0m\u001b[0mis_complex\u001b[0m\u001b[0;34m(\u001b[0m\u001b[0;34m)\u001b[0m \u001b[0;32melse\u001b[0m \u001b[0;32mNone\u001b[0m\u001b[0;34m,\u001b[0m \u001b[0mnon_blocking\u001b[0m\u001b[0;34m)\u001b[0m\u001b[0;34m\u001b[0m\u001b[0;34m\u001b[0m\u001b[0m\n\u001b[0m\u001b[1;32m   1159\u001b[0m \u001b[0;34m\u001b[0m\u001b[0m\n\u001b[1;32m   1160\u001b[0m         \u001b[0;32mreturn\u001b[0m \u001b[0mself\u001b[0m\u001b[0;34m.\u001b[0m\u001b[0m_apply\u001b[0m\u001b[0;34m(\u001b[0m\u001b[0mconvert\u001b[0m\u001b[0;34m)\u001b[0m\u001b[0;34m\u001b[0m\u001b[0;34m\u001b[0m\u001b[0m\n",
            "\u001b[0;31mRuntimeError\u001b[0m: CUDA error: device-side assert triggered\nCUDA kernel errors might be asynchronously reported at some other API call, so the stacktrace below might be incorrect.\nFor debugging consider passing CUDA_LAUNCH_BLOCKING=1.\nCompile with `TORCH_USE_CUDA_DSA` to enable device-side assertions.\n"
          ]
        }
      ]
    },
    {
      "cell_type": "code",
      "source": [
        "#x = train_data[:block_size]\n",
        "#y = train_data[1:block_size + 1]\n",
        "\n",
        "#for t in range(block_size):\n",
        "#  context = x[:t + 1]\n",
        "#  target = y[t]\n",
        "#  print('when input is', context, 'target is', target)\n",
        "import time\n",
        "started_time = time.time()\n",
        "optimizer = torch.optim.AdamW(model.parameters(), lr=learning_rate)\n",
        "for iter in range(max_iters):\n",
        "  if iter % eval_iters == 0:\n",
        "    losses = estimate_loss()\n",
        "    print(f\"step: {iter}, train loss: {losses['train']:.3f}, val loss: {losses['val']:.3f}\")\n",
        "  xb, yb = get_batch('train')\n",
        "\n",
        "  logits, loss = model.forward(xb, yb)\n",
        "  optimizer.zero_grad(set_to_none=True)\n",
        "  loss.backward()\n",
        "  optimizer.step()\n",
        "end_time = time.time()\n",
        "print(f\"time of training: {end_time - started_time}\\nloss: {loss.item()}\")\n"
      ],
      "metadata": {
        "colab": {
          "base_uri": "https://localhost:8080/"
        },
        "id": "eQoormeFlR1J",
        "outputId": "9b36c49b-724f-4a3d-ee9d-e9592c91a3d4"
      },
      "id": "eQoormeFlR1J",
      "execution_count": 25,
      "outputs": [
        {
          "output_type": "stream",
          "name": "stdout",
          "text": [
            "step: 0, train loss: 5.021, val loss: 4.738\n",
            "step: 50, train loss: 5.015, val loss: 4.774\n",
            "step: 100, train loss: 5.009, val loss: 4.696\n",
            "step: 150, train loss: 4.967, val loss: 4.757\n",
            "step: 200, train loss: 4.982, val loss: 4.704\n",
            "step: 250, train loss: 4.906, val loss: 4.687\n",
            "step: 300, train loss: 4.941, val loss: 4.634\n",
            "step: 350, train loss: 4.921, val loss: 4.710\n",
            "step: 400, train loss: 4.930, val loss: 4.734\n",
            "step: 450, train loss: 4.859, val loss: 4.650\n",
            "step: 500, train loss: 4.884, val loss: 4.704\n",
            "step: 550, train loss: 4.886, val loss: 4.718\n",
            "step: 600, train loss: 4.880, val loss: 4.603\n",
            "step: 650, train loss: 4.838, val loss: 4.639\n",
            "step: 700, train loss: 4.789, val loss: 4.595\n",
            "step: 750, train loss: 4.806, val loss: 4.618\n",
            "step: 800, train loss: 4.812, val loss: 4.648\n",
            "step: 850, train loss: 4.780, val loss: 4.596\n",
            "step: 900, train loss: 4.759, val loss: 4.592\n",
            "step: 950, train loss: 4.750, val loss: 4.562\n",
            "step: 1000, train loss: 4.750, val loss: 4.581\n",
            "step: 1050, train loss: 4.710, val loss: 4.579\n",
            "step: 1100, train loss: 4.745, val loss: 4.601\n",
            "step: 1150, train loss: 4.729, val loss: 4.553\n",
            "step: 1200, train loss: 4.694, val loss: 4.575\n",
            "step: 1250, train loss: 4.693, val loss: 4.551\n",
            "step: 1300, train loss: 4.683, val loss: 4.583\n",
            "step: 1350, train loss: 4.707, val loss: 4.540\n",
            "step: 1400, train loss: 4.663, val loss: 4.533\n",
            "step: 1450, train loss: 4.654, val loss: 4.527\n",
            "step: 1500, train loss: 4.625, val loss: 4.461\n",
            "step: 1550, train loss: 4.588, val loss: 4.518\n",
            "step: 1600, train loss: 4.606, val loss: 4.479\n",
            "step: 1650, train loss: 4.624, val loss: 4.468\n",
            "step: 1700, train loss: 4.573, val loss: 4.493\n",
            "step: 1750, train loss: 4.543, val loss: 4.466\n",
            "step: 1800, train loss: 4.538, val loss: 4.514\n",
            "step: 1850, train loss: 4.529, val loss: 4.435\n",
            "step: 1900, train loss: 4.541, val loss: 4.425\n",
            "step: 1950, train loss: 4.452, val loss: 4.422\n",
            "step: 2000, train loss: 4.497, val loss: 4.393\n",
            "step: 2050, train loss: 4.478, val loss: 4.431\n",
            "step: 2100, train loss: 4.513, val loss: 4.437\n",
            "step: 2150, train loss: 4.479, val loss: 4.369\n",
            "step: 2200, train loss: 4.481, val loss: 4.367\n",
            "step: 2250, train loss: 4.485, val loss: 4.341\n",
            "step: 2300, train loss: 4.425, val loss: 4.396\n",
            "step: 2350, train loss: 4.451, val loss: 4.402\n",
            "step: 2400, train loss: 4.442, val loss: 4.341\n",
            "step: 2450, train loss: 4.375, val loss: 4.372\n",
            "step: 2500, train loss: 4.394, val loss: 4.330\n",
            "step: 2550, train loss: 4.375, val loss: 4.342\n",
            "step: 2600, train loss: 4.387, val loss: 4.343\n",
            "step: 2650, train loss: 4.337, val loss: 4.329\n",
            "step: 2700, train loss: 4.372, val loss: 4.322\n",
            "step: 2750, train loss: 4.331, val loss: 4.309\n",
            "step: 2800, train loss: 4.323, val loss: 4.298\n",
            "step: 2850, train loss: 4.332, val loss: 4.293\n",
            "step: 2900, train loss: 4.327, val loss: 4.287\n",
            "step: 2950, train loss: 4.318, val loss: 4.266\n",
            "step: 3000, train loss: 4.280, val loss: 4.290\n",
            "step: 3050, train loss: 4.290, val loss: 4.267\n",
            "step: 3100, train loss: 4.260, val loss: 4.279\n",
            "step: 3150, train loss: 4.297, val loss: 4.257\n",
            "step: 3200, train loss: 4.260, val loss: 4.229\n",
            "step: 3250, train loss: 4.187, val loss: 4.229\n",
            "step: 3300, train loss: 4.246, val loss: 4.240\n",
            "step: 3350, train loss: 4.238, val loss: 4.224\n",
            "step: 3400, train loss: 4.202, val loss: 4.233\n",
            "step: 3450, train loss: 4.191, val loss: 4.244\n",
            "step: 3500, train loss: 4.181, val loss: 4.211\n",
            "step: 3550, train loss: 4.158, val loss: 4.206\n",
            "step: 3600, train loss: 4.133, val loss: 4.204\n",
            "step: 3650, train loss: 4.127, val loss: 4.171\n",
            "step: 3700, train loss: 4.157, val loss: 4.153\n",
            "step: 3750, train loss: 4.122, val loss: 4.188\n",
            "step: 3800, train loss: 4.137, val loss: 4.171\n",
            "step: 3850, train loss: 4.118, val loss: 4.128\n",
            "step: 3900, train loss: 4.088, val loss: 4.184\n",
            "step: 3950, train loss: 4.089, val loss: 4.173\n",
            "step: 4000, train loss: 4.082, val loss: 4.155\n",
            "step: 4050, train loss: 4.072, val loss: 4.102\n",
            "step: 4100, train loss: 4.062, val loss: 4.155\n",
            "step: 4150, train loss: 4.060, val loss: 4.126\n",
            "step: 4200, train loss: 4.046, val loss: 4.116\n",
            "step: 4250, train loss: 3.986, val loss: 4.123\n",
            "step: 4300, train loss: 4.038, val loss: 4.077\n",
            "step: 4350, train loss: 4.007, val loss: 4.083\n",
            "step: 4400, train loss: 4.001, val loss: 4.091\n",
            "step: 4450, train loss: 3.969, val loss: 4.085\n",
            "step: 4500, train loss: 4.014, val loss: 4.035\n",
            "step: 4550, train loss: 3.968, val loss: 4.044\n",
            "step: 4600, train loss: 3.998, val loss: 4.081\n",
            "step: 4650, train loss: 3.954, val loss: 4.040\n",
            "step: 4700, train loss: 3.961, val loss: 4.062\n",
            "step: 4750, train loss: 3.934, val loss: 4.047\n",
            "step: 4800, train loss: 3.955, val loss: 4.021\n",
            "step: 4850, train loss: 3.937, val loss: 4.029\n",
            "step: 4900, train loss: 3.900, val loss: 4.014\n",
            "step: 4950, train loss: 3.954, val loss: 4.023\n",
            "step: 5000, train loss: 3.886, val loss: 4.014\n",
            "step: 5050, train loss: 3.853, val loss: 4.069\n",
            "step: 5100, train loss: 3.899, val loss: 4.017\n",
            "step: 5150, train loss: 3.835, val loss: 3.986\n",
            "step: 5200, train loss: 3.840, val loss: 4.027\n",
            "step: 5250, train loss: 3.820, val loss: 3.956\n",
            "step: 5300, train loss: 3.805, val loss: 3.963\n",
            "step: 5350, train loss: 3.802, val loss: 3.974\n",
            "step: 5400, train loss: 3.863, val loss: 3.968\n",
            "step: 5450, train loss: 3.781, val loss: 3.927\n",
            "step: 5500, train loss: 3.783, val loss: 3.919\n",
            "step: 5550, train loss: 3.783, val loss: 3.946\n",
            "step: 5600, train loss: 3.770, val loss: 3.950\n",
            "step: 5650, train loss: 3.760, val loss: 3.921\n",
            "step: 5700, train loss: 3.763, val loss: 3.949\n",
            "step: 5750, train loss: 3.721, val loss: 3.911\n",
            "step: 5800, train loss: 3.727, val loss: 3.899\n",
            "step: 5850, train loss: 3.731, val loss: 3.974\n",
            "step: 5900, train loss: 3.721, val loss: 3.907\n",
            "step: 5950, train loss: 3.738, val loss: 3.915\n",
            "step: 6000, train loss: 3.767, val loss: 3.906\n",
            "step: 6050, train loss: 3.679, val loss: 3.852\n",
            "step: 6100, train loss: 3.642, val loss: 3.898\n",
            "step: 6150, train loss: 3.701, val loss: 3.840\n",
            "step: 6200, train loss: 3.635, val loss: 3.925\n",
            "step: 6250, train loss: 3.666, val loss: 3.887\n",
            "step: 6300, train loss: 3.655, val loss: 3.836\n",
            "step: 6350, train loss: 3.646, val loss: 3.852\n",
            "step: 6400, train loss: 3.626, val loss: 3.872\n",
            "step: 6450, train loss: 3.643, val loss: 3.812\n",
            "step: 6500, train loss: 3.606, val loss: 3.879\n",
            "step: 6550, train loss: 3.624, val loss: 3.865\n",
            "step: 6600, train loss: 3.626, val loss: 3.859\n",
            "step: 6650, train loss: 3.591, val loss: 3.799\n",
            "step: 6700, train loss: 3.591, val loss: 3.802\n",
            "step: 6750, train loss: 3.574, val loss: 3.854\n",
            "step: 6800, train loss: 3.569, val loss: 3.864\n",
            "step: 6850, train loss: 3.582, val loss: 3.769\n",
            "step: 6900, train loss: 3.562, val loss: 3.783\n",
            "step: 6950, train loss: 3.560, val loss: 3.778\n",
            "step: 7000, train loss: 3.496, val loss: 3.749\n",
            "step: 7050, train loss: 3.530, val loss: 3.759\n",
            "step: 7100, train loss: 3.578, val loss: 3.811\n",
            "step: 7150, train loss: 3.592, val loss: 3.785\n",
            "step: 7200, train loss: 3.565, val loss: 3.707\n",
            "step: 7250, train loss: 3.454, val loss: 3.787\n",
            "step: 7300, train loss: 3.487, val loss: 3.772\n",
            "step: 7350, train loss: 3.503, val loss: 3.732\n",
            "step: 7400, train loss: 3.470, val loss: 3.756\n",
            "step: 7450, train loss: 3.466, val loss: 3.744\n",
            "step: 7500, train loss: 3.467, val loss: 3.729\n",
            "step: 7550, train loss: 3.461, val loss: 3.771\n",
            "step: 7600, train loss: 3.437, val loss: 3.737\n",
            "step: 7650, train loss: 3.399, val loss: 3.760\n",
            "step: 7700, train loss: 3.451, val loss: 3.600\n",
            "step: 7750, train loss: 3.458, val loss: 3.742\n",
            "step: 7800, train loss: 3.397, val loss: 3.688\n",
            "step: 7850, train loss: 3.363, val loss: 3.734\n",
            "step: 7900, train loss: 3.447, val loss: 3.665\n",
            "step: 7950, train loss: 3.431, val loss: 3.741\n",
            "step: 8000, train loss: 3.443, val loss: 3.663\n",
            "step: 8050, train loss: 3.457, val loss: 3.672\n",
            "step: 8100, train loss: 3.404, val loss: 3.705\n",
            "step: 8150, train loss: 3.413, val loss: 3.723\n",
            "step: 8200, train loss: 3.446, val loss: 3.691\n",
            "step: 8250, train loss: 3.416, val loss: 3.680\n",
            "step: 8300, train loss: 3.378, val loss: 3.752\n",
            "step: 8350, train loss: 3.382, val loss: 3.679\n",
            "step: 8400, train loss: 3.298, val loss: 3.625\n",
            "step: 8450, train loss: 3.312, val loss: 3.675\n",
            "step: 8500, train loss: 3.370, val loss: 3.596\n",
            "step: 8550, train loss: 3.303, val loss: 3.629\n",
            "step: 8600, train loss: 3.391, val loss: 3.616\n",
            "step: 8650, train loss: 3.323, val loss: 3.637\n",
            "step: 8700, train loss: 3.300, val loss: 3.627\n",
            "step: 8750, train loss: 3.351, val loss: 3.649\n",
            "step: 8800, train loss: 3.282, val loss: 3.661\n",
            "step: 8850, train loss: 3.317, val loss: 3.626\n",
            "step: 8900, train loss: 3.277, val loss: 3.590\n",
            "step: 8950, train loss: 3.292, val loss: 3.654\n",
            "step: 9000, train loss: 3.277, val loss: 3.534\n",
            "step: 9050, train loss: 3.238, val loss: 3.640\n",
            "step: 9100, train loss: 3.316, val loss: 3.615\n",
            "step: 9150, train loss: 3.263, val loss: 3.578\n",
            "step: 9200, train loss: 3.319, val loss: 3.645\n",
            "step: 9250, train loss: 3.230, val loss: 3.592\n",
            "step: 9300, train loss: 3.220, val loss: 3.571\n",
            "step: 9350, train loss: 3.178, val loss: 3.557\n",
            "step: 9400, train loss: 3.203, val loss: 3.677\n",
            "step: 9450, train loss: 3.247, val loss: 3.617\n",
            "step: 9500, train loss: 3.198, val loss: 3.609\n",
            "step: 9550, train loss: 3.188, val loss: 3.591\n",
            "step: 9600, train loss: 3.210, val loss: 3.610\n",
            "step: 9650, train loss: 3.204, val loss: 3.584\n",
            "step: 9700, train loss: 3.178, val loss: 3.499\n",
            "step: 9750, train loss: 3.183, val loss: 3.559\n",
            "step: 9800, train loss: 3.216, val loss: 3.545\n",
            "step: 9850, train loss: 3.163, val loss: 3.606\n",
            "step: 9900, train loss: 3.213, val loss: 3.543\n",
            "step: 9950, train loss: 3.156, val loss: 3.629\n",
            "time of training: 18.64961051940918\n",
            "loss: 3.1889986991882324\n"
          ]
        }
      ]
    },
    {
      "cell_type": "code",
      "source": [
        "x = torch.tensor([-0.05], dtype=torch.float32)\n",
        "y = F.sigmoid(x)\n",
        "print(y)"
      ],
      "metadata": {
        "colab": {
          "base_uri": "https://localhost:8080/"
        },
        "id": "ntXM0RCA5Elr",
        "outputId": "466a4faa-0404-4534-b1c7-f2dbc129a486"
      },
      "id": "ntXM0RCA5Elr",
      "execution_count": 15,
      "outputs": [
        {
          "output_type": "stream",
          "name": "stdout",
          "text": [
            "tensor([0.4875])\n"
          ]
        }
      ]
    }
  ],
  "metadata": {
    "kernelspec": {
      "display_name": "Python 3",
      "name": "python3"
    },
    "language_info": {
      "codemirror_mode": {
        "name": "ipython",
        "version": 3
      },
      "file_extension": ".py",
      "mimetype": "text/x-python",
      "name": "python",
      "nbconvert_exporter": "python",
      "pygments_lexer": "ipython3",
      "version": "3.11.6"
    },
    "colab": {
      "provenance": [],
      "gpuType": "T4",
      "include_colab_link": true
    },
    "accelerator": "GPU"
  },
  "nbformat": 4,
  "nbformat_minor": 5
}