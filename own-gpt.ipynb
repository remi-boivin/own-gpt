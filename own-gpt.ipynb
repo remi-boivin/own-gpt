{
  "cells": [
    {
      "cell_type": "markdown",
      "metadata": {
        "id": "view-in-github",
        "colab_type": "text"
      },
      "source": [
        "<a href=\"https://colab.research.google.com/github/remi-boivin/own-gpt/blob/google_colab/own-gpt.ipynb\" target=\"_parent\"><img src=\"https://colab.research.google.com/assets/colab-badge.svg\" alt=\"Open In Colab\"/></a>"
      ]
    },
    {
      "cell_type": "code",
      "source": [
        "import torch\n",
        "import torch.nn as nn\n",
        "from torch.nn import functional as F\n",
        "device = 'cuda' if torch.cuda.is_available() else 'cpu'\n",
        "print(device)\n",
        "block_size = 8\n",
        "batch_size = 4"
      ],
      "metadata": {
        "colab": {
          "base_uri": "https://localhost:8080/"
        },
        "id": "mT_e0hY3ieUs",
        "outputId": "8dfd4b92-b886-4597-ca7a-b99fcfa10137"
      },
      "id": "mT_e0hY3ieUs",
      "execution_count": 2,
      "outputs": [
        {
          "output_type": "stream",
          "name": "stdout",
          "text": [
            "cuda\n"
          ]
        }
      ]
    },
    {
      "cell_type": "markdown",
      "source": [
        "wocabulary"
      ],
      "metadata": {
        "id": "CrJR3LRoYys9"
      },
      "id": "CrJR3LRoYys9"
    },
    {
      "cell_type": "code",
      "source": [],
      "metadata": {
        "id": "UibUwPOTibw6"
      },
      "id": "UibUwPOTibw6",
      "execution_count": null,
      "outputs": []
    },
    {
      "cell_type": "code",
      "execution_count": 13,
      "id": "ccc2e4f0-39f6-461e-a628-84cf098551e3",
      "metadata": {
        "colab": {
          "base_uri": "https://localhost:8080/"
        },
        "id": "ccc2e4f0-39f6-461e-a628-84cf098551e3",
        "outputId": "162acee1-a281-478d-b6bd-c6911b2a510a"
      },
      "outputs": [
        {
          "output_type": "stream",
          "name": "stdout",
          "text": [
            "[' ', '!', '\"', '%', '&', \"'\", '(', ')', '*', ',', '-', '.', '/', '0', '1', '2', '3', '4', '5', '6', '7', '8', '9', ':', ';', '=', '?', 'A', 'B', 'C', 'D', 'E', 'F', 'G', 'H', 'I', 'J', 'K', 'L', 'M', 'N', 'O', 'P', 'Q', 'R', 'S', 'T', 'U', 'V', 'W', 'X', 'Y', 'Z', '[', '\\\\', ']', '_', 'a', 'b', 'c', 'd', 'e', 'f', 'g', 'h', 'i', 'j', 'k', 'l', 'm', 'n', 'o', 'p', 'q', 'r', 's', 't', 'u', 'v', 'w', 'x', 'y', 'z', '{', '}', '·', '\\ufeff']\n"
          ]
        }
      ],
      "source": [
        "with open(\"wizard_of_oz.txt\", encoding=\"utf-8\") as f:\n",
        "  text = f.read()\n",
        "chars = sorted(set(text))\n",
        "print(chars)\n",
        "vocabulary_size = len(chars)"
      ]
    },
    {
      "cell_type": "markdown",
      "source": [
        "encoder"
      ],
      "metadata": {
        "id": "LCSRkOo6Y7_Y"
      },
      "id": "LCSRkOo6Y7_Y"
    },
    {
      "cell_type": "code",
      "source": [
        "string_to_int = { ch:i for i,ch in enumerate(chars)}\n",
        "int_to_string = { i:ch for i,ch in enumerate(chars)}\n",
        "encode = lambda s: [string_to_int[c] for c in s]\n",
        "decode = lambda l: ''.join(int_to_string[i] for i in l)\n",
        "data = torch.tensor(encode(text), dtype=torch.long)\n",
        "print(data[:100])"
      ],
      "metadata": {
        "id": "3Z-WASthZDYP",
        "colab": {
          "base_uri": "https://localhost:8080/"
        },
        "outputId": "40328cf9-219c-42a2-c29d-76a943c0ee52"
      },
      "id": "3Z-WASthZDYP",
      "execution_count": 14,
      "outputs": [
        {
          "output_type": "stream",
          "name": "stdout",
          "text": [
            "tensor([83,  2, 72, 57, 81, 68, 71, 57, 60,  2, 23, 83,  2, 57, 68, 68, 45, 64,\n",
            "        71, 74, 76, 59, 77, 76, 75, 31, 70, 57, 58, 68, 61, 60,  2, 23, 62, 57,\n",
            "        68, 75, 61,  9,  2, 62, 65, 68, 61, 46, 74, 61, 61,  2, 23, 83,  2,  2,\n",
            "        23, 83,  2, 65, 76, 61, 69, 75,  2, 23, 53, 83,  2, 70, 57, 69, 61,  2,\n",
            "        23,  2, 44, 31, 27, 30, 39, 31, 11, 69, 60,  2,  9,  2, 72, 57, 76, 64,\n",
            "         2, 23,  2, 44, 31, 27, 30, 39, 31, 11])\n"
          ]
        }
      ]
    },
    {
      "cell_type": "code",
      "source": [
        "n = int(0.8 * len(data))\n",
        "train_data = data[:n]\n",
        "valid_data = data[n:]\n",
        "\n",
        "def get_batch(split):\n",
        "  data = train_data if split == 'train' else val_data\n",
        "  ix = torch.randint(len(data) - block_size, (batch_size, ))\n",
        "  print(ix)\n",
        "  x = torch.stack([data[i:i + block_size] for i in ix])\n",
        "  y = torch.stack([data[i + 1:i + block_size + 1] for i in ix])\n",
        "  x, y = x.to(device), y.to(device)\n",
        "  return x,y\n",
        "\n",
        "x,y = get_batch('train')\n",
        "print(f\"inputs: {x}\\n targets {y}\")"
      ],
      "metadata": {
        "id": "X-CU7ngeZr1c",
        "outputId": "91dd8636-75e7-423b-d62a-d7efc1593065",
        "colab": {
          "base_uri": "https://localhost:8080/"
        }
      },
      "id": "X-CU7ngeZr1c",
      "execution_count": 17,
      "outputs": [
        {
          "output_type": "stream",
          "name": "stdout",
          "text": [
            "tensor([118236, 151725,  72622, 193904])\n",
            "inputs: tensor([[77, 75, 61, 75,  0, 65, 70,  0],\n",
            "        [ 0, 33, 77, 74, 63, 68, 61, 75],\n",
            "        [64, 65, 75,  0, 65, 70, 75, 65],\n",
            "        [71, 81,  0, 75, 76, 71, 72, 72]], device='cuda:0')\n",
            " targets tensor([[75, 61, 75,  0, 65, 70,  0, 76],\n",
            "        [33, 77, 74, 63, 68, 61, 75,  0],\n",
            "        [65, 75,  0, 65, 70, 75, 65, 60],\n",
            "        [81,  0, 75, 76, 71, 72, 72, 61]], device='cuda:0')\n"
          ]
        }
      ]
    },
    {
      "cell_type": "code",
      "source": [
        "class BigramLanguageModel(nn.Module):\n",
        "  def __init__(self, vocab_size):\n",
        "    super().__init__()\n",
        "    self.token_embedding_table = nn.Embedding(vocab_size, vocab_size)\n",
        "\n",
        "  def forward(self, index, target):\n",
        "    logits = self.token_embedding_table(index)\n",
        "    B, T, C = logits.shape\n",
        "    logits = logits.view(B*T, C)\n",
        "    targets = targets.view(B * T)\n",
        "    loss = F.cross_entropy(logits, target)\n",
        "    return logits\n"
      ],
      "metadata": {
        "id": "afdwFFRMJgT3"
      },
      "id": "afdwFFRMJgT3",
      "execution_count": 3,
      "outputs": []
    },
    {
      "cell_type": "code",
      "source": [
        "x = train_data[:block_size]\n",
        "y = train_data[1:block_size + 1]\n",
        "\n",
        "for t in range(block_size):\n",
        "  context = x[:t + 1]\n",
        "  target = y[t]\n",
        "  print('when input is', context, 'target is', target)"
      ],
      "metadata": {
        "colab": {
          "base_uri": "https://localhost:8080/"
        },
        "id": "eQoormeFlR1J",
        "outputId": "c806c452-078e-4153-b154-23ed1809d62e"
      },
      "id": "eQoormeFlR1J",
      "execution_count": 10,
      "outputs": [
        {
          "output_type": "stream",
          "name": "stdout",
          "text": [
            "when input is tensor([83]) target is tensor(2)\n",
            "when input is tensor([83,  2]) target is tensor(72)\n",
            "when input is tensor([83,  2, 72]) target is tensor(57)\n",
            "when input is tensor([83,  2, 72, 57]) target is tensor(81)\n",
            "when input is tensor([83,  2, 72, 57, 81]) target is tensor(68)\n",
            "when input is tensor([83,  2, 72, 57, 81, 68]) target is tensor(71)\n",
            "when input is tensor([83,  2, 72, 57, 81, 68, 71]) target is tensor(57)\n",
            "when input is tensor([83,  2, 72, 57, 81, 68, 71, 57]) target is tensor(60)\n"
          ]
        }
      ]
    }
  ],
  "metadata": {
    "kernelspec": {
      "display_name": "Python 3",
      "name": "python3"
    },
    "language_info": {
      "codemirror_mode": {
        "name": "ipython",
        "version": 3
      },
      "file_extension": ".py",
      "mimetype": "text/x-python",
      "name": "python",
      "nbconvert_exporter": "python",
      "pygments_lexer": "ipython3",
      "version": "3.11.6"
    },
    "colab": {
      "provenance": [],
      "gpuType": "T4",
      "include_colab_link": true
    },
    "accelerator": "GPU"
  },
  "nbformat": 4,
  "nbformat_minor": 5
}